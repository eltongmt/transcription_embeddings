{
 "cells": [
  {
   "cell_type": "code",
   "execution_count": 23,
   "id": "35f6e903-15b8-4d82-892f-ac1d61cc4247",
   "metadata": {},
   "outputs": [],
   "source": [
    "import pandas as pd\n",
    "import numpy as np\n",
    "import torch\n",
    "import torch.nn as nn\n",
    "import torch.nn.functional as F\n",
    "import torch.optim as optim"
   ]
  },
  {
   "cell_type": "code",
   "execution_count": 53,
   "id": "8f77964c-7f67-4893-8319-2f2b4882e852",
   "metadata": {},
   "outputs": [],
   "source": [
    "# prep data, create vocab\n",
    "df = pd.read_csv(r\"C:\\space\\elton\\UT\\TextAnalysis\\transcript_embeddings\\data\\exp_12_15_351_utterances_processed.csv\",\n",
    "                 usecols=[\"utterance\"])\n",
    "\n",
    "df[\"utterance\"] = df[\"utterance\"].str.lower()\n",
    "df_tokens = \" \".join(df[\"utterance\"]).split()\n",
    "unique_tokens = list(set(df_tokens))\n"
   ]
  },
  {
   "cell_type": "code",
   "execution_count": 54,
   "id": "d0407f8e-0857-49ac-aafc-6869e5670289",
   "metadata": {},
   "outputs": [],
   "source": [
    "# make vocabulary\n",
    "indexes = [i for i in range(0, len(unique_tokens))]\n",
    "\n",
    "vocab = dict(zip(unique_tokens, indexes))\n",
    "reverse_vocab = dict(zip(indexes, unique_tokens))"
   ]
  },
  {
   "cell_type": "code",
   "execution_count": 55,
   "id": "368c348d-e1d2-4da4-b526-1c61da18feff",
   "metadata": {},
   "outputs": [
    {
     "name": "stdout",
     "output_type": "stream",
     "text": [
      "what did you find\n",
      "[323, 1415, 888, 97]\n",
      "['what', 'did', 'you', 'find']\n"
     ]
    }
   ],
   "source": [
    "# turn tokens into list\n",
    "sentence1 = df.loc[0 , \"utterance\"]\n",
    "\n",
    "list_sentence = [vocab[word] for word in sentence1.lower().split()]\n",
    "\n",
    "print(sentence1)\n",
    "print(list_sentence)\n",
    "print([reverse_vocab[index] for index in list_sentence])"
   ]
  },
  {
   "cell_type": "code",
   "execution_count": 56,
   "id": "581164cd",
   "metadata": {},
   "outputs": [],
   "source": [
    "# this works to get context and is kinda cool but idk looks clearner and smatter way of doing it \n",
    "def get_target(words, idx, window_size=5):\n",
    "    ''' Get a list of words in a window around an index. '''\n",
    "    \n",
    "    R = window_size\n",
    "    start = idx - R if (idx - R) > 0 else 0\n",
    "    stop = idx + R\n",
    "    target_words = words[start:idx] + words[idx+1:stop+1]\n",
    "    \n",
    "    return list(target_words)"
   ]
  },
  {
   "cell_type": "code",
   "execution_count": 57,
   "id": "d324afb3-8c80-481d-844d-32642b19b2ca",
   "metadata": {},
   "outputs": [],
   "source": [
    "def get_pos_context(tokens, window):\n",
    "    # we have to know the position of the token in the array\n",
    "    # so that we can comfirm that there are enough tokens to use \n",
    "    # that window size \n",
    "    context = []\n",
    "    \n",
    "    for i, token in enumerate(tokens):\n",
    "        context.append([token, get_target(tokens, i, 1)])\n",
    "\n",
    "        \"\"\"\n",
    "        if i == 0:\n",
    "            pos_context = [tokens[i+window]]\n",
    "        elif i == len(tokens) -1:\n",
    "            pos_context = [tokens[i-window]]\n",
    "        else:\n",
    "            pos_context = [tokens[i-window], tokens[i+window]]\n",
    "        \"\"\"\n",
    "        \n",
    "        #context.append([token, pos_context])\n",
    "    return context"
   ]
  },
  {
   "cell_type": "code",
   "execution_count": 58,
   "id": "fb6ed5cc",
   "metadata": {},
   "outputs": [
    {
     "data": {
      "text/plain": [
       "[[323, [1415]], [1415, [323, 888]], [888, [1415, 97]], [97, [888]]]"
      ]
     },
     "execution_count": 58,
     "metadata": {},
     "output_type": "execute_result"
    }
   ],
   "source": [
    "get_pos_context(list_sentence, 1)"
   ]
  },
  {
   "cell_type": "code",
   "execution_count": 59,
   "id": "979b7ac0",
   "metadata": {},
   "outputs": [
    {
     "name": "stdout",
     "output_type": "stream",
     "text": [
      "what did you find\n",
      "[['what', ['did']], ['did', ['what', 'you']], ['you', ['did', 'find']], ['find', ['you']]]\n"
     ]
    }
   ],
   "source": [
    "# check that it works lol \n",
    "val = get_pos_context(list_sentence, 1)\n",
    "\n",
    "def show_context(val):\n",
    "\n",
    "    x = []\n",
    "    y = []\n",
    "\n",
    "    for target in val:\n",
    "        y = []\n",
    "        for context in target[1]:\n",
    "            y.append(reverse_vocab[context])\n",
    "        x.append([reverse_vocab[target[0]], y])\n",
    "    print(x)\n",
    "\n",
    "print(sentence1)\n",
    "show_context(val)"
   ]
  },
  {
   "cell_type": "code",
   "execution_count": 60,
   "id": "5af15888-fb41-4e83-8949-6d936b72a04a",
   "metadata": {},
   "outputs": [],
   "source": [
    "# get negative examples \n",
    "def get_neg_context(pos_context, num):\n",
    "    neg_context = []\n",
    "    \n",
    "    for token in pos_context:\n",
    "        neg_instances = []\n",
    "        for context in token[1]:\n",
    "            samples = []\n",
    "            for i in range(0, num):\n",
    "                neg = np.random.randint(1, len(vocab)+1)\n",
    "\n",
    "                if neg not in token[1]:\n",
    "                    samples.append(neg)\n",
    "            neg_instances.append(samples)\n",
    "        neg_context.append([token[0], neg_instances])\n",
    "    return neg_context"
   ]
  },
  {
   "cell_type": "code",
   "execution_count": 88,
   "id": "ee38cb49",
   "metadata": {},
   "outputs": [
    {
     "name": "stdout",
     "output_type": "stream",
     "text": [
      "[[323, [1415]], [1415, [323, 888]], [888, [1415, 97]], [97, [888]]]\n"
     ]
    },
    {
     "data": {
      "text/plain": [
       "[[323, [[1399, 1542]]],\n",
       " [1415, [[1134, 1647], [971, 990]]],\n",
       " [888, [[1014, 157], [533, 253]]],\n",
       " [97, [[1692, 1300]]]]"
      ]
     },
     "execution_count": 88,
     "metadata": {},
     "output_type": "execute_result"
    }
   ],
   "source": [
    "# each context instance is a training instance so \n",
    "# the negative sampling should match that ratio \n",
    "context = get_pos_context(list_sentence, 1)\n",
    "neg_context = get_neg_context(context, 2)\n",
    "\n",
    "print(context)\n",
    "neg_context"
   ]
  },
  {
   "cell_type": "code",
   "execution_count": 89,
   "id": "32ee85e4-2e99-40a1-990e-1334985cbdd5",
   "metadata": {},
   "outputs": [],
   "source": [
    "# concatenate positive and negative skipgrams\n",
    "# create its y-labels\n",
    "ngrams, contexts, labels = [], [], []\n",
    "\n",
    "def process_skipgrams(sentence, window, num=0):\n",
    "        # change tokenizer \n",
    "        tokens = [vocab[word] for word in sentence.lower().split()]\n",
    "\n",
    "        pos_context = get_pos_context(tokens, window)\n",
    "        #[ngrams.append(i) for i in pos_context]\n",
    "        #neg_context = get_neg_context(pos_context, num)\n",
    "\n",
    "        for i, token in enumerate(pos_context):\n",
    "               for j, context in enumerate(token[1]):\n",
    "                        instance_context = [pos_context[i][1][j]] #+ neg_context[i][1][j]\n",
    "        #                label = [1] + [0 for i in range(num)]\n",
    "                        ngrams.append(token[0])\n",
    "                        contexts.append(instance_context)\n",
    "        #                labels.append(label)\n"
   ]
  },
  {
   "cell_type": "code",
   "execution_count": 90,
   "id": "466ead7c",
   "metadata": {},
   "outputs": [
    {
     "data": {
      "text/plain": [
       "0       None\n",
       "1       None\n",
       "2       None\n",
       "3       None\n",
       "4       None\n",
       "        ... \n",
       "5139    None\n",
       "5140    None\n",
       "5141    None\n",
       "5142    None\n",
       "5143    None\n",
       "Name: utterance, Length: 5144, dtype: object"
      ]
     },
     "execution_count": 90,
     "metadata": {},
     "output_type": "execute_result"
    }
   ],
   "source": [
    "df[\"utterance\"].apply(lambda x: process_skipgrams(x, 1, 1))"
   ]
  },
  {
   "cell_type": "code",
   "execution_count": 92,
   "id": "42cd9209-1e97-4fac-902e-bd8ecb7f16cb",
   "metadata": {},
   "outputs": [
    {
     "name": "stdout",
     "output_type": "stream",
     "text": [
      "106842 106842 0\n",
      "\n",
      "Target:[323, 1415, 1415, 888, 888, 97, 1256, 815, 815, 597]\n",
      "Contexts:[[1415], [323], [888], [1415], [97], [888], [815], [1256], [597], [815]]\n",
      "Labels[]\n"
     ]
    }
   ],
   "source": [
    "print(len(ngrams), len(contexts), len(labels))\n",
    "print(f\"\\nTarget:{ngrams[:10]}\\nContexts:{contexts[:10]}\\nLabels{labels[:10]}\")"
   ]
  },
  {
   "cell_type": "markdown",
   "id": "bab6301d",
   "metadata": {},
   "source": [
    "### Define Model"
   ]
  },
  {
   "cell_type": "code",
   "execution_count": 93,
   "id": "a486044a",
   "metadata": {},
   "outputs": [],
   "source": [
    "EMBEDDING_DIM = 10\n",
    "CONTEXT_SIZE = 1 \n",
    "\n",
    "device = torch.device(\"cuda:0\" if torch.cuda.is_available() else \"cpu\")\n",
    "\n",
    "\n",
    "class NGramLanguageModeler(nn.Module):\n",
    "\n",
    "    def __init__(self, vocab_size, embedding_dim, context_size):\n",
    "        super(NGramLanguageModeler, self).__init__()\n",
    "        self.embeddings = nn.Embedding(vocab_size, embedding_dim)\n",
    "        self.linear1 = nn.Linear(context_size * embedding_dim, 128)\n",
    "        self.linear2 = nn.Linear(128, vocab_size)\n",
    "\n",
    "    def forward(self, inputs):\n",
    "        embeds = self.embeddings(inputs).view((1, -1))\n",
    "        out = F.relu(self.linear1(embeds))\n",
    "        out = self.linear2(out)\n",
    "        log_probs = F.log_softmax(out, dim=1)\n",
    "        return log_probs\n",
    "\n",
    "\n",
    "losses = []\n",
    "loss_function = nn.NLLLoss()\n",
    "model = NGramLanguageModeler(len(vocab), EMBEDDING_DIM, CONTEXT_SIZE)\n",
    "model = model.to(device)\n",
    "\n",
    "optimizer = optim.Adam(model.parameters(), lr=0.001)"
   ]
  },
  {
   "cell_type": "code",
   "execution_count": 27,
   "id": "53c53e12",
   "metadata": {},
   "outputs": [],
   "source": [
    "def train(epoch, name):\n",
    "    for i in range(epoch):\n",
    "        total_loss = 0\n",
    "        for instance, target in enumerate(ngrams):\n",
    "            context = contexts[instance]\n",
    "\n",
    "            # Step 1. Prepare the inputs to be passed to the model (i.e, turn the words\n",
    "            # into integer indices and wrap them in tensors)\n",
    "            context_idxs = torch.tensor(context, dtype=torch.long)\n",
    "            target = torch.tensor([target], dtype=torch.long)\n",
    "\n",
    "            # send to device\n",
    "            context_idxs = context_idxs.to(device)\n",
    "            target = target.to(device)\n",
    "\n",
    "            # Step 2. Recall that torch *accumulates* gradients. Before passing in a\n",
    "            # new instance, you need to zero out the gradients from the old\n",
    "            # instance\n",
    "            model.zero_grad()\n",
    "\n",
    "            # Step 3. Run the forward pass, getting log probabilities over next\n",
    "            # words\n",
    "\n",
    "            log_probs = model(context_idxs)\n",
    "\n",
    "            # Step 4. Compute your loss function. (Again, Torch wants the target\n",
    "            # word wrapped in a tensor\n",
    "\n",
    "            loss = loss_function(log_probs, target)\n",
    "\n",
    "            # Step 5. Do the backward pass and update the gradient\n",
    "            loss.backward()\n",
    "            optimizer.step()\n",
    "\n",
    "            # Get the Python number from a 1-element Tensor by calling tensor.item()\n",
    "            total_loss += loss.item()\n",
    "        losses.append(total_loss)\n",
    "    print(losses)  # The loss decreased every iteration over the training data!\n",
    "\n",
    "    # To get the embedding of a particular word, e.g. \"beauty\"\n",
    "    #print(model.embeddings.weight[vocab[\"appeal\"]])\n",
    "    torch.save(model, name + \".pt\")\n",
    "\n"
   ]
  },
  {
   "cell_type": "markdown",
   "id": "cb10749d",
   "metadata": {},
   "source": [
    "### Sannity Check"
   ]
  },
  {
   "cell_type": "code",
   "execution_count": 157,
   "id": "64125332",
   "metadata": {},
   "outputs": [],
   "source": [
    "with open(\"training_text.txt\", \"r\") as file:\n",
    "    data = file.read()\n",
    "data = data.split(\".\")\n",
    "data = [x.replace(\",\",\"\").strip() for x in data]\n",
    "data_list = [sentence.split() for sentence in data]"
   ]
  },
  {
   "cell_type": "code",
   "execution_count": 158,
   "id": "7389121e",
   "metadata": {},
   "outputs": [],
   "source": [
    "unique_tokens = set([word.lower() for sentence in data_list for word in sentence])\n",
    "\n",
    "indexes = [i for i in range(0, len(unique_tokens))]\n",
    "\n",
    "vocab = dict(zip(unique_tokens, indexes))\n",
    "reverse_vocab = dict(zip(indexes, unique_tokens))\n"
   ]
  },
  {
   "cell_type": "code",
   "execution_count": 159,
   "id": "be145667",
   "metadata": {},
   "outputs": [
    {
     "name": "stdout",
     "output_type": "stream",
     "text": [
      "228 228 0\n",
      "\n",
      "Target:[30, 54, 54, 37, 37, 16, 16, 15, 15, 18]\n",
      "Contexts:[[54], [30], [37], [54], [16], [37], [15], [16], [18], [15]]\n",
      "Labels[]\n"
     ]
    }
   ],
   "source": [
    "ngrams, contexts, labels = [], [], []\n",
    "\n",
    "[process_skipgrams(sentence, 1) for sentence in data]\n",
    "print(len(ngrams), len(contexts), len(labels))\n",
    "print(f\"\\nTarget:{ngrams[:10]}\\nContexts:{contexts[:10]}\\nLabels{labels[:10]}\")"
   ]
  },
  {
   "cell_type": "code",
   "execution_count": 162,
   "id": "fe538036",
   "metadata": {},
   "outputs": [
    {
     "name": "stdout",
     "output_type": "stream",
     "text": [
      "[4959085.44082278, 4726886.398088902, 4670662.208977789, 4632244.806633115, 4602539.85949713, 4578067.010765582, 4557114.6248961985, 4538641.996898264, 4521948.559521794, 4506699.214590758, 0, 0, 2608.607633113861, 2324.0921874046326, 2075.339277625084, 1878.1830248236656, 1738.7614849805832, 1632.9436318278313, 1550.3426654338837, 1480.3329263925552, 1419.0230380296707, 1365.2425910830498, 1316.889916241169, 1271.6294116973877, 1228.3148918151855, 1186.7085087895393, 1146.8725850582123, 1108.8494052886963, 1072.5906730294228, 1038.003607392311, 1005.0180712342262, 973.6083593964577, 943.7723426222801, 915.5055095553398, 888.7874814271927, 863.5659504532814, 839.7456265687943, 817.207755625248, 795.8377023339272, 775.5242677330971, 756.1691707968712, 737.6956212520599, 720.0488886833191, 703.1794994473457, 687.0472012162209, 671.6130813360214, 656.8503565192223, 642.7291369438171, 629.2321740984917, 616.3464308977127, 604.0588166713715, 592.3577210307121, 581.231736779213, 570.6766523122787, 560.6803315877914, 551.2286452054977, 542.3055350780487, 533.8866316080093, 525.9497399926186, 518.4687290787697, 511.41185146570206, 504.75120598077774]\n"
     ]
    }
   ],
   "source": [
    "train(30, \"sanity_check\")"
   ]
  },
  {
   "cell_type": "code",
   "execution_count": 94,
   "id": "95bd3be4",
   "metadata": {},
   "outputs": [
    {
     "name": "stdout",
     "output_type": "stream",
     "text": [
      "tensor([-1.9083,  0.3978, -1.1476,  1.1213,  1.6255, -1.5320, -0.4631, -0.4677,\n",
      "        -1.0071,  1.7121], device='cuda:0', grad_fn=<SelectBackward0>)\n"
     ]
    }
   ],
   "source": [
    "model_ft = torch.load(r\"C:\\space\\elton\\UT\\TextAnalysis\\transcript_embeddings\\models\\4_2-10epoch.pt\")\n",
    "print(model_ft.embeddings.weight[vocab[\"toy\"]])"
   ]
  },
  {
   "cell_type": "code",
   "execution_count": null,
   "id": "73175d4a",
   "metadata": {},
   "outputs": [],
   "source": [
    "embeddings.s"
   ]
  },
  {
   "cell_type": "code",
   "execution_count": 105,
   "id": "5fe706f3",
   "metadata": {},
   "outputs": [
    {
     "data": {
      "text/html": [
       "<style>#sk-container-id-2 {color: black;}#sk-container-id-2 pre{padding: 0;}#sk-container-id-2 div.sk-toggleable {background-color: white;}#sk-container-id-2 label.sk-toggleable__label {cursor: pointer;display: block;width: 100%;margin-bottom: 0;padding: 0.3em;box-sizing: border-box;text-align: center;}#sk-container-id-2 label.sk-toggleable__label-arrow:before {content: \"▸\";float: left;margin-right: 0.25em;color: #696969;}#sk-container-id-2 label.sk-toggleable__label-arrow:hover:before {color: black;}#sk-container-id-2 div.sk-estimator:hover label.sk-toggleable__label-arrow:before {color: black;}#sk-container-id-2 div.sk-toggleable__content {max-height: 0;max-width: 0;overflow: hidden;text-align: left;background-color: #f0f8ff;}#sk-container-id-2 div.sk-toggleable__content pre {margin: 0.2em;color: black;border-radius: 0.25em;background-color: #f0f8ff;}#sk-container-id-2 input.sk-toggleable__control:checked~div.sk-toggleable__content {max-height: 200px;max-width: 100%;overflow: auto;}#sk-container-id-2 input.sk-toggleable__control:checked~label.sk-toggleable__label-arrow:before {content: \"▾\";}#sk-container-id-2 div.sk-estimator input.sk-toggleable__control:checked~label.sk-toggleable__label {background-color: #d4ebff;}#sk-container-id-2 div.sk-label input.sk-toggleable__control:checked~label.sk-toggleable__label {background-color: #d4ebff;}#sk-container-id-2 input.sk-hidden--visually {border: 0;clip: rect(1px 1px 1px 1px);clip: rect(1px, 1px, 1px, 1px);height: 1px;margin: -1px;overflow: hidden;padding: 0;position: absolute;width: 1px;}#sk-container-id-2 div.sk-estimator {font-family: monospace;background-color: #f0f8ff;border: 1px dotted black;border-radius: 0.25em;box-sizing: border-box;margin-bottom: 0.5em;}#sk-container-id-2 div.sk-estimator:hover {background-color: #d4ebff;}#sk-container-id-2 div.sk-parallel-item::after {content: \"\";width: 100%;border-bottom: 1px solid gray;flex-grow: 1;}#sk-container-id-2 div.sk-label:hover label.sk-toggleable__label {background-color: #d4ebff;}#sk-container-id-2 div.sk-serial::before {content: \"\";position: absolute;border-left: 1px solid gray;box-sizing: border-box;top: 0;bottom: 0;left: 50%;z-index: 0;}#sk-container-id-2 div.sk-serial {display: flex;flex-direction: column;align-items: center;background-color: white;padding-right: 0.2em;padding-left: 0.2em;position: relative;}#sk-container-id-2 div.sk-item {position: relative;z-index: 1;}#sk-container-id-2 div.sk-parallel {display: flex;align-items: stretch;justify-content: center;background-color: white;position: relative;}#sk-container-id-2 div.sk-item::before, #sk-container-id-2 div.sk-parallel-item::before {content: \"\";position: absolute;border-left: 1px solid gray;box-sizing: border-box;top: 0;bottom: 0;left: 50%;z-index: -1;}#sk-container-id-2 div.sk-parallel-item {display: flex;flex-direction: column;z-index: 1;position: relative;background-color: white;}#sk-container-id-2 div.sk-parallel-item:first-child::after {align-self: flex-end;width: 50%;}#sk-container-id-2 div.sk-parallel-item:last-child::after {align-self: flex-start;width: 50%;}#sk-container-id-2 div.sk-parallel-item:only-child::after {width: 0;}#sk-container-id-2 div.sk-dashed-wrapped {border: 1px dashed gray;margin: 0 0.4em 0.5em 0.4em;box-sizing: border-box;padding-bottom: 0.4em;background-color: white;}#sk-container-id-2 div.sk-label label {font-family: monospace;font-weight: bold;display: inline-block;line-height: 1.2em;}#sk-container-id-2 div.sk-label-container {text-align: center;}#sk-container-id-2 div.sk-container {/* jupyter's `normalize.less` sets `[hidden] { display: none; }` but bootstrap.min.css set `[hidden] { display: none !important; }` so we also need the `!important` here to be able to override the default hidden behavior on the sphinx rendered scikit-learn.org. See: https://github.com/scikit-learn/scikit-learn/issues/21755 */display: inline-block !important;position: relative;}#sk-container-id-2 div.sk-text-repr-fallback {display: none;}</style><div id=\"sk-container-id-2\" class=\"sk-top-container\"><div class=\"sk-text-repr-fallback\"><pre>PCA(n_components=2)</pre><b>In a Jupyter environment, please rerun this cell to show the HTML representation or trust the notebook. <br />On GitHub, the HTML representation is unable to render, please try loading this page with nbviewer.org.</b></div><div class=\"sk-container\" hidden><div class=\"sk-item\"><div class=\"sk-estimator sk-toggleable\"><input class=\"sk-toggleable__control sk-hidden--visually\" id=\"sk-estimator-id-2\" type=\"checkbox\" checked><label for=\"sk-estimator-id-2\" class=\"sk-toggleable__label sk-toggleable__label-arrow\">PCA</label><div class=\"sk-toggleable__content\"><pre>PCA(n_components=2)</pre></div></div></div></div></div>"
      ],
      "text/plain": [
       "PCA(n_components=2)"
      ]
     },
     "execution_count": 105,
     "metadata": {},
     "output_type": "execute_result"
    }
   ],
   "source": [
    "from sklearn.decomposition import PCA\n",
    "\n",
    "embeddings = model_ft.embeddings.weight.to('cpu').data.numpy()\n",
    "pca = PCA(n_components=2)\n",
    "pca.fit(embeddings)"
   ]
  },
  {
   "cell_type": "code",
   "execution_count": 97,
   "id": "90950ec0",
   "metadata": {},
   "outputs": [
    {
     "data": {
      "image/png": "[encoded data removed]",
      "text/plain": [
       "<Figure size 1600x1600 with 1 Axes>"
      ]
     },
     "metadata": {},
     "output_type": "display_data"
    }
   ],
   "source": [
    "import matplotlib.pyplot as plt\n",
    "from sklearn.manifold import TSNE\n",
    "\n",
    "embeddings = model_ft.embeddings.weight.to('cpu').data.numpy()\n",
    "\n",
    "viz_words = 58\n",
    "tsne = TSNE()\n",
    "\n",
    "\n",
    "shuffled = np.copy(embeddings)\n",
    "np.random.shuffle(shuffled)\n",
    "\n",
    "embed_tsne = tsne.fit_transform(embeddings)\n",
    "\n",
    "fig, ax = plt.subplots(figsize=(16, 16))\n",
    "for idx in range(viz_words):\n",
    "    plt.scatter(*embed_tsne[idx, :], color='steelblue')\n",
    "    plt.annotate(reverse_vocab[idx], (embed_tsne[idx, 0], embed_tsne[idx, 1]), alpha=0.7)\n"
   ]
  }
 ],
 "metadata": {
  "kernelspec": {
   "display_name": "Python 3 (ipykernel)",
   "language": "python",
   "name": "python3"
  },
  "language_info": {
   "codemirror_mode": {
    "name": "ipython",
    "version": 3
   },
   "file_extension": ".py",
   "mimetype": "text/x-python",
   "name": "python",
   "nbconvert_exporter": "python",
   "pygments_lexer": "ipython3",
   "version": "3.12.2"
  }
 },
 "nbformat": 4,
 "nbformat_minor": 5
}
