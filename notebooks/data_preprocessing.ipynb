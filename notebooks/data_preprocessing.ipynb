{
 "cells": [
  {
   "cell_type": "code",
   "execution_count": null,
   "id": "031f3569",
   "metadata": {},
   "outputs": [],
   "source": [
    "# final steps for preprocessing\n",
    "# get rid of NaN trancript values DONE\n",
    "# check the ground truth for subject numbers/ difference values DONE(new subjects added)\n",
    "# if we can how do we validate the JA alignment better? "
   ]
  },
  {
   "cell_type": "code",
   "execution_count": 2,
   "id": "5fbe501f-79e6-4a61-bd09-a082cba514a1",
   "metadata": {
    "tags": []
   },
   "outputs": [],
   "source": [
    "# headers\n",
    "import pandas as pd\n",
    "import numpy as np\n",
    "import os \n",
    "import re\n",
    "import matplotlib.pyplot as plt\n",
    "import scipy.io\n",
    "import traceback"
   ]
  },
  {
   "cell_type": "markdown",
   "id": "53fb8d19-86f8-449a-bab5-a3ecadf6e292",
   "metadata": {},
   "source": [
    "### Gather transcription data across experiments 12, 15, 351"
   ]
  },
  {
   "cell_type": "code",
   "execution_count": 2,
   "id": "6254a006",
   "metadata": {},
   "outputs": [],
   "source": [
    "def merge_transcription(df, gap):\n",
    "    merged = []\n",
    "\n",
    "    i = 0\n",
    "    while i != df.index[-1]:\n",
    "        try:\n",
    "            final_utterance = df.loc[i, \"utterance\"]\n",
    "        except:\n",
    "            print(df.head(5))\n",
    "        j = i\n",
    "        onset = df.loc[i, \"onset\"]\n",
    "        #print()\n",
    "        while True and j != df.index[-1]:\n",
    "            #print(df.loc[j, \"offset\"], df.loc[j+1, \"onset\"])\n",
    "            diff = abs(df.loc[j, \"offset\"] - df.loc[j+1, \"onset\"])\n",
    "            \n",
    "\n",
    "            if diff >= gap:\n",
    "                offset = df.loc[j, \"offset\"]\n",
    "                \n",
    "                if j != i:\n",
    "                    #test += 1\n",
    "                    pass\n",
    "         \n",
    "                # this is when you merge everythig eg the base case \n",
    "                final_utterance = (onset, offset, final_utterance)\n",
    "                merged.append(final_utterance)\n",
    "                \n",
    "                i = j\n",
    "                break\n",
    "            final_utterance += \" \" + df.loc[j+1, \"utterance\"] \n",
    "            j += 1\n",
    "        i += 1\n",
    "    return pd.DataFrame(merged, columns=[\"onset\", \"offset\", \"utterance\"])\n",
    "\n"
   ]
  },
  {
   "cell_type": "code",
   "execution_count": 3,
   "id": "09dd2154",
   "metadata": {},
   "outputs": [],
   "source": [
    "def read_transcription(ind_subject, subject_folder, subject_id):\n",
    "    ind_trans = ind_subject + f\"\\\\speech_transcription_p\\\\speech_{subject_id}.txt\"\n",
    "\n",
    "\n",
    "    if not os.path.isfile(ind_trans):\n",
    "        print(\"no speech transcription found for subject \" + subject_id)\n",
    "        return None\n",
    "    else:\n",
    "        \n",
    "        try: \n",
    "            relative_speechTime = os.path.join(ind_subject, subject_folder+\"_info.mat\")\n",
    "            speechTime = scipy.io.loadmat(relative_speechTime)\n",
    "            speechTime = float(speechTime[\"trialInfo\"][\"speechTime\"][0][0].squeeze())\n",
    "\n",
    "        except Exception as e:\n",
    "            print(e)\n",
    "            return None\n",
    "        \n",
    "        df_cur = pd.read_csv(ind_trans, delimiter='\\t', names=[\"onset\",\"offset\",\"utterance\"])\n",
    "        df_cur[\"onset\"] += speechTime\n",
    "        df_cur[\"offset\"] += speechTime\n",
    "\n",
    "        df_cur = df_cur[df_cur[\"utterance\"].notnull()]\n",
    "        df_cur = df_cur.reset_index(drop=True)\n",
    "\n",
    "    return df_cur"
   ]
  },
  {
   "cell_type": "code",
   "execution_count": 4,
   "id": "f27c422a-875d-4535-8f41-9fc6e82306ed",
   "metadata": {
    "tags": []
   },
   "outputs": [],
   "source": [
    "def overlap(a0, b0, a1, b1):\n",
    "    if (b0 <= a1) | (b1 <= a0):\n",
    "        return False\n",
    "    elif (a0 <= a1) & (b0 > a1):\n",
    "        return True\n",
    "    elif (a0 > a1) & (b1 > a0):\n",
    "        return True\n",
    "    else:\n",
    "        return False"
   ]
  },
  {
   "cell_type": "code",
   "execution_count": 5,
   "id": "1eb43389-a4dc-4443-85c4-eacd855b5e94",
   "metadata": {
    "tags": []
   },
   "outputs": [],
   "source": [
    "# Using the helper function overlap takes in the onset and offset\n",
    "# of the utterances and matches them to those of JA\n",
    "def align(u1, u2, JA):\n",
    "    \n",
    "    if len(JA) > 0:\n",
    "        j1, j2 = JA[0][:2]\n",
    "        \n",
    "        if overlap(j1, j2, u1, u2):\n",
    "            #plot_overlap(a0, b0, a1, b1)\n",
    "            return 1\n",
    "        elif j2 < u1:\n",
    "            JA.pop(0)\n",
    "    return 0"
   ]
  },
  {
   "cell_type": "code",
   "execution_count": 6,
   "id": "5a5b6570",
   "metadata": {},
   "outputs": [],
   "source": [
    "def get_JA(df_cur, ind_subject):\n",
    "\n",
    "    df_cur[\"JA\"] = np.nan\n",
    "    var_string = os.path.join(ind_subject, \"derived\", \"cevent_eye_joint-attend_both.mat\")\n",
    "        \n",
    "    try: \n",
    "        JA = scipy.io.loadmat(var_string)\n",
    "        JA = JA[\"sdata\"][\"data\"][0][0].tolist()\n",
    "        \n",
    "        for i in df_cur.index:\n",
    "            u1, u2 = df_cur.loc[i, [\"onset\", \"offset\"]]\n",
    "            #print(u1, u2)\n",
    "            attention = align(u1, u2, JA) \n",
    "            #print(attention)\n",
    "            df_cur.loc[i, \"JA\"] = attention\n",
    "            \n",
    "    except Exception as e:\n",
    "        print(e)\n",
    "        "
   ]
  },
  {
   "cell_type": "code",
   "execution_count": 7,
   "id": "b729abb6",
   "metadata": {},
   "outputs": [],
   "source": [
    "objects = [\"helmet\", \"house\",\"bluecar\",\"rose\",\"elephant\",\"snowman\",\"rabbit\",\"spongebob\",\"turtle\",\"hammer\",\n",
    "         \"ladybug\",\"mantis\",\"greencar\",\"saw\",\"doll\",\"phone\",\"rubiks\",\"shovel\",\"bigwheels\",\"whitecar\",\n",
    "         \"ladybugstick\",\"purpleblock\",\"bed\",\"clearblock\",\"bison\",\"croc\",\"drop\",\"kettle\",\"koala\",\"lemon\",\n",
    "         \"mango\",\"moose\",\"pot\",\"seal\",\"kettle\",\"cat\",\"potato\",\"firetruck\",\"bulldozer\",\"car\",\"ostrich\",\n",
    "         \"frog\",\"truck\",\"lobster\",\"carrot\",\"colander\",\"motorcycle\",\"cup\",\"dog\",\"elephant\",\"spaceship\",\n",
    "         \"pineapple\",\"banana\",\"submarine\",\"boat\",\"cookie\",\"stingray\",\"fork\",\"helicopter\",\"duck\",\"bee\"]\n",
    "\n",
    "def replace(utterance):\n",
    "    for object in objects:\n",
    "        utterance = utterance.replace(object, \"toy\")\n",
    "    return utterance "
   ]
  },
  {
   "cell_type": "code",
   "execution_count": 8,
   "id": "8953b8b3-f4b0-4942-abf1-9b048d40b74c",
   "metadata": {
    "tags": []
   },
   "outputs": [
    {
     "name": "stdout",
     "output_type": "stream",
     "text": [
      "[Errno 2] No such file or directory: 'M:\\\\experiment_12\\\\included\\\\__20160225_17406\\\\derived\\\\cevent_eye_joint-attend_both.mat'\n",
      "no speech transcription found for subject 17878\n",
      "[Errno 2] No such file or directory: 'M:\\\\experiment_12\\\\included\\\\__20171012_19694\\\\derived\\\\cevent_eye_joint-attend_both.mat'\n",
      "no speech transcription found for subject 20510\n",
      "no speech transcription found for subject 21501\n",
      "[Errno 2] No such file or directory: 'M:\\\\experiment_15\\\\included\\\\__20180725_21960\\\\derived\\\\cevent_eye_joint-attend_both.mat'\n",
      "no speech transcription found for subject 24842\n"
     ]
    }
   ],
   "source": [
    "df_0 = pd.DataFrame(data= np.zeros((1,5)), columns=[\"exp\",\"sub\",\"onset\",\"offset\",\"utterance\"])\n",
    "df_prev = df_0\n",
    "gap = 2\n",
    "\n",
    "for exp in [12, 15, 351]:\n",
    "    ind = f\"M:\\\\experiment_{exp}\\\\included\\\\\"\n",
    "\n",
    "    for subject in os.listdir(ind):\n",
    "\n",
    "        # match the subject number from the folder name\n",
    "        match = re.search(r\"\\d{8}[_]\\d{5}$\", subject)\n",
    "        if match == None:\n",
    "            continue\n",
    "        subject_folder = match.group()\n",
    "\n",
    "        # get meta data \n",
    "        subject_folder = \"__\" + subject_folder\n",
    "        subject_id = subject_folder.split(\"_\")[-1]\n",
    "        ind_subject = ind + subject_folder\n",
    "\n",
    "        # read transcription \n",
    "        df_cur = read_transcription(ind_subject, subject_folder, subject_id)\n",
    "\n",
    "        # an error occured while reading the transription\n",
    "        # move on to the next subject \n",
    "        if type(df_cur) == type(None):\n",
    "            continue \n",
    "\n",
    "        # transform the data by merging utterances based on a 2 sec gap, \n",
    "        df_cur = merge_transcription(df_cur, gap)\n",
    "        # change all toys to toy\n",
    "        #df_cur[\"utterance\"] = df_cur[\"utterance\"].apply(replace)\n",
    "        # align JA with utterance onset/offset\n",
    "        get_JA(df_cur, ind_subject)\n",
    "\n",
    "        # set metadata and pointers for next iteration \n",
    "        df_cur[\"exp\"] = exp\n",
    "        df_cur[\"sub\"] = subject_folder[2:]\n",
    "    \n",
    "        df_concat = pd.concat([df_prev, df_cur], ignore_index=True)\n",
    "        df_prev = df_concat\n",
    "            \n",
    "trans_file = df_prev[(df_prev[\"onset\"] > 0) & (df_prev[\"offset\"] > 0)]\n",
    "trans_file.to_csv(\"C:\\\\space\\\\elton\\\\UT\\\\TextAnalysis\\\\transcript_embeddings\\\\data\\\\exp_12_15_351_utterances_processed_noReplace.csv\", index=False)"
   ]
  },
  {
   "cell_type": "markdown",
   "id": "ecdee79a-06f6-4cc3-8329-b3c38c7297d7",
   "metadata": {},
   "source": [
    "### Summary statistics "
   ]
  },
  {
   "cell_type": "code",
   "execution_count": 52,
   "id": "2f808f8d",
   "metadata": {},
   "outputs": [
    {
     "data": {
      "text/plain": [
       "exp\n",
       "12.0     37\n",
       "15.0     52\n",
       "351.0    29\n",
       "dtype: int64"
      ]
     },
     "execution_count": 52,
     "metadata": {},
     "output_type": "execute_result"
    }
   ],
   "source": [
    "# get number of subjects \n",
    "df.drop_duplicates(subset=\"sub\").groupby(by=\"exp\").size()"
   ]
  },
  {
   "cell_type": "code",
   "execution_count": 3,
   "id": "ed663522-8b3b-4621-be2f-a97d7bf7a77d",
   "metadata": {},
   "outputs": [],
   "source": [
    "dfu = pd.read_csv(\"C:\\\\space\\\\elton\\\\UT\\\\TextAnalysis\\\\transcript_embeddings\\\\data\\\\exp_12_15_351_utterances.csv\")\n",
    "df = pd.read_csv(\"C:\\\\space\\\\elton\\\\UT\\\\TextAnalysis\\\\transcript_embeddings\\\\data\\\\exp_12_15_351_utterances_processed.csv\")"
   ]
  },
  {
   "cell_type": "code",
   "execution_count": 4,
   "id": "d1f5deb4-eedc-428d-8b93-48c3112030e3",
   "metadata": {
    "tags": []
   },
   "outputs": [],
   "source": [
    "def data_summary(df):\n",
    "\n",
    "    median = df[\"utterance\"].str.len().median()\n",
    "    mean = df[\"utterance\"].str.len().mean()\n",
    "\n",
    "    sub_num = df[\"sub\"].unique().shape[0]\n",
    "    utterance_count_sub_mean = df.groupby(\"sub\").count().mean()[1]\n",
    "\n",
    "    print(f\"Median utterance length: {median}\")\n",
    "    print(f\"Mean utterance length: {mean}\")\n",
    "    print(f\"There are {sub_num} subjects in our dataset\")\n",
    "    print(f\"The average subject has around {utterance_count_sub_mean} utterances\\n\")\n",
    "\n",
    "    plt.hist(df[\"utterance\"].str.len(), range=(0,90));\n",
    "    plt.title(\"utterance length distribution\")\n",
    "    plt.show()"
   ]
  },
  {
   "cell_type": "code",
   "execution_count": 50,
   "id": "a6ec544b",
   "metadata": {},
   "outputs": [
    {
     "name": "stdout",
     "output_type": "stream",
     "text": [
      "Median utterance length: 15.0\n",
      "Mean utterance length: 18.60710502154107\n",
      "There are 116 subjects in our dataset\n",
      "The average subject has around 122.0603448275862 utterances\n",
      "\n"
     ]
    },
    {
     "data": {
      "image/png": "[encoded data removed]",
      "text/plain": [
       "<Figure size 640x480 with 1 Axes>"
      ]
     },
     "metadata": {},
     "output_type": "display_data"
    },
    {
     "name": "stdout",
     "output_type": "stream",
     "text": [
      "Median utterance length: 30.0\n",
      "Mean utterance length: 50.61839035769829\n",
      "There are 118 subjects in our dataset\n",
      "The average subject has around 43.59322033898305 utterances\n",
      "\n"
     ]
    },
    {
     "data": {
      "image/png": "[encoded data removed]",
      "text/plain": [
       "<Figure size 640x480 with 1 Axes>"
      ]
     },
     "metadata": {},
     "output_type": "display_data"
    }
   ],
   "source": [
    "data_summary(dfu)\n",
    "data_summary(df)"
   ]
  },
  {
   "cell_type": "markdown",
   "id": "536acec4",
   "metadata": {},
   "source": []
  },
  {
   "cell_type": "markdown",
   "id": "b4ec60bb-4ffd-4856-bf55-6556a43e01af",
   "metadata": {
    "tags": []
   },
   "source": [
    "### Align attention variables with utterances"
   ]
  },
  {
   "cell_type": "markdown",
   "id": "b97954b0-2e80-43ce-9459-503ddd7b59ef",
   "metadata": {},
   "source": [
    "__Making script to check for overlaping sequences__"
   ]
  },
  {
   "cell_type": "code",
   "execution_count": 7,
   "id": "72987694-24af-406d-8061-f3f52ae93bd5",
   "metadata": {
    "tags": []
   },
   "outputs": [],
   "source": [
    "def plot_overlap(a0, b0, a1, b1):\n",
    "\n",
    "    t = [[a0, b0],[a1, b1],[1,1],[2,2]]\n",
    "\n",
    "    plt.title(f\"overlap: {overlap(t[0][0],t[0][1],t[1][0],t[1][1])}\")\n",
    "    plt.xlim(0, max(b0,b1)), plt.ylim(0, 4)\n",
    "    plt.plot(t[0],t[2])\n",
    "    plt.plot(t[1],t[3])\n",
    "    plt.show()"
   ]
  },
  {
   "cell_type": "code",
   "execution_count": 38,
   "id": "9216e289-1794-40c3-85f0-1d3c11577a1e",
   "metadata": {},
   "outputs": [
    {
     "data": {
      "image/png": "[encoded data removed]",
      "text/plain": [
       "<Figure size 640x480 with 1 Axes>"
      ]
     },
     "metadata": {},
     "output_type": "display_data"
    }
   ],
   "source": [
    "plot_overlap(1,2.2, 2, 3)"
   ]
  },
  {
   "cell_type": "markdown",
   "id": "5587ee56-56c2-45a9-a003-481c519b172d",
   "metadata": {},
   "source": [
    "__Loading the matlab Join Attention Data__"
   ]
  },
  {
   "cell_type": "code",
   "execution_count": 14,
   "id": "d834711f-33cf-419a-90b5-fa2957e95985",
   "metadata": {
    "tags": []
   },
   "outputs": [
    {
     "data": {
      "text/plain": [
       "[[31.54, 44.599999999999994, 20.0],\n",
       " [50.9, 53.669999999999995, 20.0],\n",
       " [54.9, 56.669999999999995, 25.0],\n",
       " [64.77, 67.13999999999999, 6.0],\n",
       " [67.74, 70.13999999999999, 10.0],\n",
       " [70.8, 73.13999999999999, 6.0],\n",
       " [76.94, 77.86999999999999, 10.0],\n",
       " [84.07000000000001, 85.69999999999999, 18.0],\n",
       " [88.07000000000001, 88.63999999999999, 10.0],\n",
       " [89.97, 91.03999999999999, 10.0],\n",
       " [91.44, 92.57, 6.0],\n",
       " [97.4, 98.0, 2.0],\n",
       " [105.8, 108.44, 23.0],\n",
       " [110.57000000000001, 113.66999999999999, 15.0],\n",
       " [115.24000000000001, 117.5, 15.0],\n",
       " [120.2, 120.77, 15.0],\n",
       " [123.57000000000001, 130.64, 15.0],\n",
       " [135.64000000000001, 138.6, 15.0],\n",
       " [156.44, 168.54, 20.0],\n",
       " [174.17000000000002, 177.73999999999998, 20.0],\n",
       " [180.8, 181.84, 15.0],\n",
       " [183.27, 184.76999999999998, 15.0],\n",
       " [188.9, 189.64, 14.0],\n",
       " [198.07, 200.67, 14.0],\n",
       " [211.3, 220.07, 18.0],\n",
       " [221.4, 222.79999999999998, 18.0],\n",
       " [223.8, 227.04, 18.0],\n",
       " [231.97, 232.5, 15.0],\n",
       " [243.14000000000001, 249.4, 21.0],\n",
       " [251.14000000000001, 253.5, 21.0],\n",
       " [255.07, 255.9, 21.0],\n",
       " [257.44, 258.14, 21.0],\n",
       " [263.4, 264.64, 22.0],\n",
       " [278.1, 280.1, 8.0],\n",
       " [288.27, 289.79999999999995, 17.0],\n",
       " [300.96999999999997, 305.59999999999997, 24.0],\n",
       " [316.56999999999994, 317.3399999999999, 17.0],\n",
       " [319.63999999999993, 322.16999999999996, 22.0],\n",
       " [331.86999999999995, 333.50999999999993, 22.0],\n",
       " [334.9, 336.23999999999995, 17.0],\n",
       " [352.66999999999996, 354.06999999999994, 24.0],\n",
       " [360.16999999999996, 362.03999999999996, 17.0],\n",
       " [367.43999999999994, 368.79999999999995, 25.0],\n",
       " [372.9699999999999, 376.23999999999995, 9.0],\n",
       " [377.93999999999994, 380.5999999999999, 2.0],\n",
       " [388.73999999999995, 389.36999999999995, 2.0],\n",
       " [395.53999999999996, 397.69999999999993, 5.0],\n",
       " [399.43999999999994, 405.27, 5.0],\n",
       " [407.29999999999995, 407.9699999999999, 2.0],\n",
       " [416.53999999999996, 418.53999999999996, 2.0],\n",
       " [432.10999999999996, 433.43999999999994, 14.0],\n",
       " [455.16999999999996, 455.66999999999996, 14.0],\n",
       " [466.29999999999995, 467.66999999999996, 16.0],\n",
       " [469.14, 473.7699999999999, 25.0],\n",
       " [474.14, 478.79999999999995, 16.0],\n",
       " [500.59999999999997, 502.93999999999994, 8.0],\n",
       " [504.09999999999997, 508.69999999999993, 8.0],\n",
       " [510.66999999999996, 520.7399999999999, 8.0],\n",
       " [523.54, 526.77, 15.0],\n",
       " [528.3, 532.9, 15.0],\n",
       " [541.9699999999999, 545.17, 1.0],\n",
       " [546.3, 546.8, 1.0],\n",
       " [548.3399999999999, 552.2399999999999, 1.0],\n",
       " [560.27, 563.27, 1.0],\n",
       " [567.8, 568.54, 1.0]]"
      ]
     },
     "execution_count": 14,
     "metadata": {},
     "output_type": "execute_result"
    }
   ],
   "source": [
    "JA = scipy.io.loadmat(r\"M:\\experiment_12\\included\\__20151217_16963\\derived\\cevent_eye_joint-attend_both.mat\")\n",
    "JA = JA[\"sdata\"][\"data\"][0][0].tolist()\n",
    "JA"
   ]
  },
  {
   "cell_type": "markdown",
   "id": "40cab6e3-1185-467f-8e5d-4f1b2e1c73f5",
   "metadata": {},
   "source": [
    "__Test aligning variables and changing dataframe values__ "
   ]
  },
  {
   "cell_type": "code",
   "execution_count": 52,
   "id": "458b9fb2-2eff-4a77-8549-5f36b55fdf41",
   "metadata": {
    "tags": []
   },
   "outputs": [
    {
     "data": {
      "text/plain": [
       "array([0, 1], dtype=int64)"
      ]
     },
     "execution_count": 52,
     "metadata": {},
     "output_type": "execute_result"
    }
   ],
   "source": [
    "dfu = pd.read_csv(\"exp_12_15_351_utterances.csv\")\n",
    "dfu[\"attention\"] = 0\n",
    "dft = dfu[dfu[\"sub\"] == \"20151217_16963\"].copy()\n",
    "JA_list = JA\n",
    "\n",
    "for i in dft.index:\n",
    "    u1, u2 = dft.iloc[i][2:4]\n",
    "    \n",
    "    attention = align(u1, u2, JA_list)\n",
    "    \n",
    "    dft.loc[i, \"attention\"] = attention\n",
    "dft[\"attention\"].unique()"
   ]
  },
  {
   "cell_type": "markdown",
   "id": "140ed237-ee72-4d71-b3da-98b8452194bf",
   "metadata": {},
   "source": [
    "__Align JA for all subjects__"
   ]
  },
  {
   "cell_type": "code",
   "execution_count": 45,
   "id": "ff32f089-59b9-4705-b99c-be8c280e9a0c",
   "metadata": {},
   "outputs": [
    {
     "name": "stdout",
     "output_type": "stream",
     "text": [
      "[Errno 2] No such file or directory: 'M:\\\\experiment_12\\\\included\\\\__20160225_17406\\\\derived\\\\cevent_eye_joint-attend_both.mat'\n",
      "[Errno 2] No such file or directory: 'M:\\\\experiment_12\\\\included\\\\__20171012_19694\\\\derived\\\\cevent_eye_joint-attend_both.mat'\n",
      "[Errno 2] No such file or directory: 'M:\\\\experiment_15\\\\included\\\\__20180725_21960\\\\derived\\\\cevent_eye_joint-attend_both.mat'\n"
     ]
    }
   ],
   "source": [
    "dfu = pd.read_csv(\"exp_12_15_351_utterances.csv\")\n",
    "dfu[\"JA\"] = 0\n",
    "\n",
    "for var_sub in dfu[\"sub\"].unique():\n",
    "    var_exp = dfu[dfu[\"sub\"] == var_sub].iloc[1, 0]\n",
    "    \n",
    "    var_string = f\"M:\\\\experiment_{int(var_exp)}\\\\included\\\\__{var_sub}\\\\derived\\\\cevent_eye_joint-attend_both.mat\"\n",
    "    \n",
    "    try: \n",
    "        JA = scipy.io.loadmat(var_string)\n",
    "        JA = JA[\"sdata\"][\"data\"][0][0].tolist()\n",
    "        \n",
    "        dfs = dfu[dfu[\"sub\"] == var_sub]\n",
    "        \n",
    "        for i in dfs.index:\n",
    "            u1, u2 = dfu.iloc[i, 2:4]\n",
    "            attention = align(u1, u2, JA) \n",
    "            dfu.iloc[i, -1] = attention\n",
    "            \n",
    "    except Exception as e:\n",
    "        #print(traceback.format_exc())\n",
    "        print(e)\n",
    "\n",
    "        mask = dfu[\"sub\"] == var_sub\n",
    "        # this selects only the rows of interest \n",
    "        dfu.loc[dfu[\"sub\"] == var_sub, \"JA\"] = np.nan"
   ]
  }
 ],
 "metadata": {
  "kernelspec": {
   "display_name": "Python 3 (ipykernel)",
   "language": "python",
   "name": "python3"
  },
  "language_info": {
   "codemirror_mode": {
    "name": "ipython",
    "version": 3
   },
   "file_extension": ".py",
   "mimetype": "text/x-python",
   "name": "python",
   "nbconvert_exporter": "python",
   "pygments_lexer": "ipython3",
   "version": "3.12.2"
  }
 },
 "nbformat": 4,
 "nbformat_minor": 5
}
